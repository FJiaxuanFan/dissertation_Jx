{
 "cells": [
  {
   "cell_type": "code",
   "execution_count": null,
   "id": "26f5090a-96c9-4309-a1bb-4e4fe9c70273",
   "metadata": {},
   "outputs": [],
   "source": [
    "#12344"
   ]
  },
  {
   "cell_type": "code",
   "execution_count": null,
   "id": "61db6498-da82-4f80-bbc0-ec8fbfe9dbc5",
   "metadata": {},
   "outputs": [],
   "source": [
    "#trytry"
   ]
  },
  {
   "cell_type": "code",
   "execution_count": null,
   "id": "0ace069d-ba56-43c0-bdfe-970bb465dce9",
   "metadata": {},
   "outputs": [],
   "source": []
  }
 ],
 "metadata": {
  "kernelspec": {
   "display_name": "Python 3 (ipykernel)",
   "language": "python",
   "name": "python3"
  },
  "language_info": {
   "codemirror_mode": {
    "name": "ipython",
    "version": 3
   },
   "file_extension": ".py",
   "mimetype": "text/x-python",
   "name": "python",
   "nbconvert_exporter": "python",
   "pygments_lexer": "ipython3",
   "version": "3.10.5"
  }
 },
 "nbformat": 4,
 "nbformat_minor": 5
}
